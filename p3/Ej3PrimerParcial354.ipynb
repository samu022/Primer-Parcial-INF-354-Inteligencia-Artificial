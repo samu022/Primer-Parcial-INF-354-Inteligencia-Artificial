{
  "nbformat": 4,
  "nbformat_minor": 0,
  "metadata": {
    "colab": {
      "provenance": []
    },
    "kernelspec": {
      "name": "python3",
      "display_name": "Python 3"
    },
    "language_info": {
      "name": "python"
    }
  },
  "cells": [
    {
      "cell_type": "code",
      "execution_count": 2,
      "metadata": {
        "colab": {
          "base_uri": "https://localhost:8080/"
        },
        "id": "OygQiCo3lj97",
        "outputId": "cd285e8e-9cdc-4e91-d479-bd907ecc00a9"
      },
      "outputs": [
        {
          "output_type": "stream",
          "name": "stdout",
          "text": [
            "<bound method NDFrame.head of             ph    Hardness        Solids  Chloramines     Sulfate  \\\n",
            "0          NaN  204.890455  20791.318981     7.300212  368.516441   \n",
            "1     3.716080  129.422921  18630.057858     6.635246         NaN   \n",
            "2     8.099124  224.236259  19909.541732     9.275884         NaN   \n",
            "3     8.316766  214.373394  22018.417441     8.059332  356.886136   \n",
            "4     9.092223  181.101509  17978.986339     6.546600  310.135738   \n",
            "...        ...         ...           ...          ...         ...   \n",
            "3271  4.668102  193.681735  47580.991603     7.166639  359.948574   \n",
            "3272  7.808856  193.553212  17329.802160     8.061362         NaN   \n",
            "3273  9.419510  175.762646  33155.578218     7.350233         NaN   \n",
            "3274  5.126763  230.603758  11983.869376     6.303357         NaN   \n",
            "3275  7.874671  195.102299  17404.177061     7.509306         NaN   \n",
            "\n",
            "      Conductivity  Organic_carbon  Trihalomethanes  Turbidity  Potability  \n",
            "0       564.308654       10.379783        86.990970   2.963135           0  \n",
            "1       592.885359       15.180013        56.329076   4.500656           0  \n",
            "2       418.606213       16.868637        66.420093   3.055934           0  \n",
            "3       363.266516       18.436524       100.341674   4.628771           0  \n",
            "4       398.410813       11.558279        31.997993   4.075075           0  \n",
            "...            ...             ...              ...        ...         ...  \n",
            "3271    526.424171       13.894419        66.687695   4.435821           1  \n",
            "3272    392.449580       19.903225              NaN   2.798243           1  \n",
            "3273    432.044783       11.039070        69.845400   3.298875           1  \n",
            "3274    402.883113       11.168946        77.488213   4.708658           1  \n",
            "3275    327.459760       16.140368        78.698446   2.309149           1  \n",
            "\n",
            "[3276 rows x 10 columns]>\n"
          ]
        }
      ],
      "source": [
        "import pandas as pd\n",
        "archivo=\"/content/drive/MyDrive/data/water_potabilityImputacion.csv\"\n",
        "datos=pd.read_csv(archivo)\n",
        "print(datos.head)"
      ]
    },
    {
      "cell_type": "markdown",
      "source": [
        "Sacamos la primera columna y realizamos la imputación"
      ],
      "metadata": {
        "id": "jOn8q5OYm0kY"
      }
    },
    {
      "cell_type": "code",
      "source": [
        "import numpy as np\n",
        "y=datos.ph\n",
        "yp=np.asarray(y, dtype=\"float\")\n",
        "\n",
        "print(yp)\n",
        "print(len(yp))\n",
        "\n"
      ],
      "metadata": {
        "colab": {
          "base_uri": "https://localhost:8080/"
        },
        "id": "MU8QH_m2m4q3",
        "outputId": "4801527d-e226-469f-cef2-47846fa44b7c"
      },
      "execution_count": 3,
      "outputs": [
        {
          "output_type": "stream",
          "name": "stdout",
          "text": [
            "[       nan 3.71608008 8.09912419 ... 9.41951032 5.12676292 7.87467136]\n",
            "3276\n"
          ]
        }
      ]
    },
    {
      "cell_type": "code",
      "source": [
        "#hallamos la media con numpy\n",
        "yp1=yp\n",
        "# Filtramos los valores 0 y los valores NaN elementos que no son nan\n",
        "yp1 = yp1[(~np.isnan(yp1))]\n",
        "\n",
        "# Calcular la media de los valores restantes\n",
        "media = np.mean(yp1)\n",
        "print(media)"
      ],
      "metadata": {
        "colab": {
          "base_uri": "https://localhost:8080/"
        },
        "id": "fyR4uFqJn0F_",
        "outputId": "82dfc09a-61d7-41cb-d582-64534c046836"
      },
      "execution_count": 4,
      "outputs": [
        {
          "output_type": "stream",
          "name": "stdout",
          "text": [
            "7.080794504276835\n"
          ]
        }
      ]
    },
    {
      "cell_type": "code",
      "source": [
        "#reemplazamos por la media\n",
        "yp2=np.where(np.isnan(yp),media,yp)\n",
        "print(yp2)"
      ],
      "metadata": {
        "colab": {
          "base_uri": "https://localhost:8080/"
        },
        "id": "EMayDsQRolQv",
        "outputId": "189c3401-42c6-41e6-ff0b-ff7e285591da"
      },
      "execution_count": 5,
      "outputs": [
        {
          "output_type": "stream",
          "name": "stdout",
          "text": [
            "[7.0807945  3.71608008 8.09912419 ... 9.41951032 5.12676292 7.87467136]\n"
          ]
        }
      ]
    },
    {
      "cell_type": "markdown",
      "source": [
        "Ya hicimos la imputación de la primera columna ph ahora faltan las demás para eso creamos una función imputar columna"
      ],
      "metadata": {
        "id": "z_FcJqafq_oy"
      }
    },
    {
      "cell_type": "code",
      "source": [
        "def imputar(columna):\n",
        "  y=columna\n",
        "  yp=np.asarray(y, dtype=\"float\")\n",
        "  #hallamos la media con numpy\n",
        "  yp1=yp\n",
        "  # Filtramos los valores 0 y los valores NaN elementos que no son nan\n",
        "  yp1 = yp1[(~np.isnan(yp1))]\n",
        "\n",
        "  # Calcular la media de los valores restantes\n",
        "  media = np.mean(yp1)\n",
        "  yp2=np.where(np.isnan(yp),media,yp)\n",
        "  return yp2\n",
        "\n",
        "\n",
        "print()\n",
        "print(\"Primera columna: \",imputar(datos.ph))\n",
        "print()\n",
        "print(\"Segunda columna: \",imputar(datos.Hardness))\n",
        "print()\n",
        "print(\"Tercera columna: \",imputar(datos.Solids))\n",
        "print()\n",
        "print(\"Cuarta columna: \",imputar(datos.Chloramines) )\n",
        "print()\n",
        "print(\"Quinta columna: \",imputar(datos.Sulfate))\n",
        "print()\n",
        "print(\"Sexta columna: \",imputar(datos.Conductivity))\n",
        "print()\n",
        "print(\"Septima columna: \",imputar(datos.Organic_carbon))\n",
        "print()\n",
        "print(\"Octava columna: \",imputar(datos.Trihalomethanes))\n",
        "print()\n",
        "print(\"Novena columna: \",imputar(datos.Turbidity))\n",
        "print()\n",
        "print(\"Decima columna: \",imputar(datos.Potability))\n",
        "\n",
        "\n"
      ],
      "metadata": {
        "colab": {
          "base_uri": "https://localhost:8080/"
        },
        "id": "iSBpwp_7rGfd",
        "outputId": "7d4ebb29-ca64-4a9a-fbac-f790531cc8b0"
      },
      "execution_count": 6,
      "outputs": [
        {
          "output_type": "stream",
          "name": "stdout",
          "text": [
            "\n",
            "Primera columna:  [7.0807945  3.71608008 8.09912419 ... 9.41951032 5.12676292 7.87467136]\n",
            "\n",
            "Segunda columna:  [204.89045547 129.42292051 224.23625939 ... 175.7626463  230.60375751\n",
            " 195.10229859]\n",
            "\n",
            "Tercera columna:  [20791.31898075 18630.05785797 19909.54173229 ... 33155.57821831\n",
            " 11983.86937634 17404.17706105]\n",
            "\n",
            "Cuarta columna:  [7.30021187 6.63524588 9.2758836  ... 7.35023323 6.30335653 7.50930586]\n",
            "\n",
            "Quinta columna:  [368.51644135 333.77577661 333.77577661 ... 333.77577661 333.77577661\n",
            " 333.77577661]\n",
            "\n",
            "Sexta columna:  [564.30865417 592.88535913 418.60621306 ... 432.04478305 402.88311312\n",
            " 327.45976046]\n",
            "\n",
            "Septima columna:  [10.37978308 15.18001312 16.86863693 ... 11.03906969 11.16894622\n",
            " 16.14036763]\n",
            "\n",
            "Octava columna:  [86.99097046 56.32907628 66.42009251 ... 69.84540029 77.4882131\n",
            " 78.69844633]\n",
            "\n",
            "Novena columna:  [2.96313538 4.50065627 3.05593375 ... 3.2988755  4.70865847 2.30914906]\n",
            "\n",
            "Decima columna:  [0. 0. 0. ... 1. 1. 1.]\n"
          ]
        }
      ]
    },
    {
      "cell_type": "markdown",
      "source": [
        "**Ahora mostramos como un nuevo dataset**"
      ],
      "metadata": {
        "id": "PV2y703ntHef"
      }
    },
    {
      "cell_type": "code",
      "source": [
        "columnas_imputadas = []\n",
        "etiquetas_columnas = []\n",
        "#itera en los nombres de columnas\n",
        "for columna in datos.columns:\n",
        "  #datos[indice] devuelve la columna\n",
        "    datos_imputados = imputar(datos[columna])\n",
        "    columnas_imputadas.append(datos_imputados)\n",
        "    etiquetas_columnas.append(columna)\n",
        "matriz_imputada = np.column_stack(columnas_imputadas)\n",
        "#se coloca la matriz imputada y como otro atributo las etiquetas\n",
        "datos = pd.DataFrame(matriz_imputada, columns=etiquetas_columnas)\n",
        "\n",
        "# Mostrar el DataFrame con las columnas imputadas\n",
        "print(\"Nuevo dataframe imputado de la calidad de agua:\")\n",
        "print(datos.head)"
      ],
      "metadata": {
        "colab": {
          "base_uri": "https://localhost:8080/"
        },
        "id": "IxvgpWq7tK6H",
        "outputId": "5c009d53-d4cd-4d4c-d2e6-ad7fc51d032e"
      },
      "execution_count": 7,
      "outputs": [
        {
          "output_type": "stream",
          "name": "stdout",
          "text": [
            "Nuevo dataframe imputado de la calidad de agua:\n",
            "<bound method NDFrame.head of             ph    Hardness        Solids  Chloramines     Sulfate  \\\n",
            "0     7.080795  204.890455  20791.318981     7.300212  368.516441   \n",
            "1     3.716080  129.422921  18630.057858     6.635246  333.775777   \n",
            "2     8.099124  224.236259  19909.541732     9.275884  333.775777   \n",
            "3     8.316766  214.373394  22018.417441     8.059332  356.886136   \n",
            "4     9.092223  181.101509  17978.986339     6.546600  310.135738   \n",
            "...        ...         ...           ...          ...         ...   \n",
            "3271  4.668102  193.681735  47580.991603     7.166639  359.948574   \n",
            "3272  7.808856  193.553212  17329.802160     8.061362  333.775777   \n",
            "3273  9.419510  175.762646  33155.578218     7.350233  333.775777   \n",
            "3274  5.126763  230.603758  11983.869376     6.303357  333.775777   \n",
            "3275  7.874671  195.102299  17404.177061     7.509306  333.775777   \n",
            "\n",
            "      Conductivity  Organic_carbon  Trihalomethanes  Turbidity  Potability  \n",
            "0       564.308654       10.379783        86.990970   2.963135         0.0  \n",
            "1       592.885359       15.180013        56.329076   4.500656         0.0  \n",
            "2       418.606213       16.868637        66.420093   3.055934         0.0  \n",
            "3       363.266516       18.436524       100.341674   4.628771         0.0  \n",
            "4       398.410813       11.558279        31.997993   4.075075         0.0  \n",
            "...            ...             ...              ...        ...         ...  \n",
            "3271    526.424171       13.894419        66.687695   4.435821         1.0  \n",
            "3272    392.449580       19.903225        66.396293   2.798243         1.0  \n",
            "3273    432.044783       11.039070        69.845400   3.298875         1.0  \n",
            "3274    402.883113       11.168946        77.488213   4.708658         1.0  \n",
            "3275    327.459760       16.140368        78.698446   2.309149         1.0  \n",
            "\n",
            "[3276 rows x 10 columns]>\n"
          ]
        }
      ]
    }
  ]
}