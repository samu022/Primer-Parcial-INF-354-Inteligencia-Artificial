{
  "nbformat": 4,
  "nbformat_minor": 0,
  "metadata": {
    "colab": {
      "provenance": []
    },
    "kernelspec": {
      "name": "python3",
      "display_name": "Python 3"
    },
    "language_info": {
      "name": "python"
    }
  },
  "cells": [
    {
      "cell_type": "markdown",
      "source": [
        "# **Ejercicio #2 2. Realice lo mismo del inciso anterior con el uso de numpy y pandas**"
      ],
      "metadata": {
        "id": "R0uGP2jK6rss"
      }
    },
    {
      "cell_type": "markdown",
      "source": [
        "Importamos el dataset"
      ],
      "metadata": {
        "id": "PBXbXloZmnGt"
      }
    },
    {
      "cell_type": "code",
      "source": [
        "from google.colab import drive\n",
        "drive.mount('/content/drive')\n",
        "import pandas as pd\n",
        "archivo=\"/content/drive/MyDrive/data/water_potability.csv\"\n",
        "datos=pd.read_csv(archivo)\n",
        "print(datos.head)"
      ],
      "metadata": {
        "colab": {
          "base_uri": "https://localhost:8080/"
        },
        "id": "dJgFjbs0mX8N",
        "outputId": "db2cd8f8-003e-44c9-aa07-3a7f241d592f"
      },
      "execution_count": 1,
      "outputs": [
        {
          "output_type": "stream",
          "name": "stdout",
          "text": [
            "Drive already mounted at /content/drive; to attempt to forcibly remount, call drive.mount(\"/content/drive\", force_remount=True).\n",
            "<bound method NDFrame.head of             ph    Hardness        Solids  Chloramines     Sulfate  \\\n",
            "0          NaN  204.890455  20791.318981     7.300212  368.516441   \n",
            "1     3.716080  129.422921  18630.057858     6.635246         NaN   \n",
            "2     8.099124  224.236259  19909.541732     9.275884         NaN   \n",
            "3     8.316766  214.373394  22018.417441     8.059332  356.886136   \n",
            "4     9.092223  181.101509  17978.986339     6.546600  310.135738   \n",
            "...        ...         ...           ...          ...         ...   \n",
            "3271  4.668102  193.681735  47580.991603     7.166639  359.948574   \n",
            "3272  7.808856  193.553212  17329.802160     8.061362         NaN   \n",
            "3273  9.419510  175.762646  33155.578218     7.350233         NaN   \n",
            "3274  5.126763  230.603758  11983.869376     6.303357         NaN   \n",
            "3275  7.874671  195.102299  17404.177061     7.509306         NaN   \n",
            "\n",
            "      Conductivity  Organic_carbon  Trihalomethanes  Turbidity  Potability  \n",
            "0       564.308654       10.379783        86.990970   2.963135           0  \n",
            "1       592.885359       15.180013        56.329076   4.500656           0  \n",
            "2       418.606213       16.868637        66.420093   3.055934           0  \n",
            "3       363.266516       18.436524       100.341674   4.628771           0  \n",
            "4       398.410813       11.558279        31.997993   4.075075           0  \n",
            "...            ...             ...              ...        ...         ...  \n",
            "3271    526.424171       13.894419        66.687695   4.435821           1  \n",
            "3272    392.449580       19.903225              NaN   2.798243           1  \n",
            "3273    432.044783       11.039070        69.845400   3.298875           1  \n",
            "3274    402.883113       11.168946        77.488213   4.708658           1  \n",
            "3275    327.459760       16.140368        78.698446   2.309149           1  \n",
            "\n",
            "[3276 rows x 10 columns]>\n"
          ]
        }
      ]
    },
    {
      "cell_type": "markdown",
      "source": [
        "Importamos primera columna"
      ],
      "metadata": {
        "id": "oUfIqoySnOT2"
      }
    },
    {
      "cell_type": "code",
      "source": [
        "# Seleccionar la primera columna\n",
        "primera_columna = datos.iloc[:, 0]\n",
        "print(primera_columna[:15])"
      ],
      "metadata": {
        "colab": {
          "base_uri": "https://localhost:8080/"
        },
        "id": "flu6m2vWnCuD",
        "outputId": "68929727-802d-4e3a-a6c4-1ee33ce9622e"
      },
      "execution_count": 3,
      "outputs": [
        {
          "output_type": "stream",
          "name": "stdout",
          "text": [
            "0           NaN\n",
            "1      3.716080\n",
            "2      8.099124\n",
            "3      8.316766\n",
            "4      9.092223\n",
            "5      5.584087\n",
            "6     10.223862\n",
            "7      8.635849\n",
            "8           NaN\n",
            "9     11.180284\n",
            "10     7.360640\n",
            "11     7.974522\n",
            "12     7.119824\n",
            "13          NaN\n",
            "14     7.496232\n",
            "Name: ph, dtype: float64\n"
          ]
        }
      ]
    },
    {
      "cell_type": "markdown",
      "source": [
        "Realizamos los calculos correspondientes"
      ],
      "metadata": {
        "id": "NKemRHFsnYeS"
      }
    },
    {
      "cell_type": "code",
      "source": [
        "import numpy as np\n",
        "#eliminamos valores nan\n",
        "primera_columna = primera_columna[~np.isnan(primera_columna)]\n",
        "# Calcular la media\n",
        "media = np.mean(primera_columna)\n",
        "\n",
        "# Calcular la moda\n",
        "moda = primera_columna.mode()\n",
        "\n",
        "# Calcular los cuartiles (25%, 50%, 75%)\n",
        "cuartil_25 = primera_columna.quantile(0.25)\n",
        "cuartil_50 = primera_columna.quantile(0.50)\n",
        "cuartil_75 = primera_columna.quantile(0.75)\n",
        "\n",
        "# Calcular percentiles (por ejemplo, el percentil 90)\n",
        "percentil_60 = np.percentile(primera_columna, 60)\n",
        "percentil_90 = np.percentile(primera_columna, 90)\n",
        "percentil_99 = np.percentile(primera_columna, 99)\n",
        "\n",
        "# Imprimir los resultados\n",
        "print(\"Media:\", media)\n",
        "print(\"Moda:\", moda.values[0])  # Si hay varias modas, solo se toma la primera\n",
        "print(\"Cuartil 25%:\", cuartil_25)\n",
        "print(\"Cuartil 50% (Mediana):\", cuartil_50)\n",
        "print(\"Cuartil 75%:\", cuartil_75)\n",
        "print(\"Percentil 60:\", percentil_60)\n",
        "print(\"Percentil 90:\", percentil_90)\n",
        "print(\"Percentil 99:\", percentil_99)"
      ],
      "metadata": {
        "colab": {
          "base_uri": "https://localhost:8080/"
        },
        "id": "yShIkX9inbun",
        "outputId": "7514dc75-41ca-42b3-c839-0bf85ea6f0ba"
      },
      "execution_count": 4,
      "outputs": [
        {
          "output_type": "stream",
          "name": "stdout",
          "text": [
            "Media: 7.080794504276835\n",
            "Moda: 0.0\n",
            "Cuartil 25%: 6.09309191422186\n",
            "Cuartil 50% (Mediana): 7.036752103833548\n",
            "Cuartil 75%: 8.06206612314847\n",
            "Percentil 60: 7.4366353799272185\n",
            "Percentil 90: 9.078356263157408\n",
            "Percentil 99: 10.895339401159859\n"
          ]
        }
      ]
    },
    {
      "cell_type": "markdown",
      "source": [
        "# **Para las demás columna**"
      ],
      "metadata": {
        "id": "k6MWVcjPodey"
      }
    },
    {
      "cell_type": "code",
      "source": [
        "def analisis_columna(columna, datos):\n",
        "  columna = datos.iloc[:, columna-1]\n",
        "  #eliminamos valores nan\n",
        "  columna = columna[~np.isnan(columna)]\n",
        "  # Calcular la media\n",
        "  media = np.mean(columna)\n",
        "\n",
        "  # Calcular la moda\n",
        "  moda = columna.mode()\n",
        "\n",
        "  # Calcular los cuartiles (25%, 50%, 75%)\n",
        "  cuartil_25 = columna.quantile(0.25)\n",
        "  cuartil_50 = columna.quantile(0.50)\n",
        "  cuartil_75 = columna.quantile(0.75)\n",
        "\n",
        "  # Calcular percentiles (por ejemplo, el percentil 90)\n",
        "  percentil_60 = np.percentile(columna, 60)\n",
        "  percentil_90 = np.percentile(columna, 90)\n",
        "  percentil_99 = np.percentile(columna, 99)\n",
        "\n",
        "  # Imprimir los resultados\n",
        "  print(\"Media:\", media)\n",
        "  print(\"Moda:\", moda.values[0])  # Si hay varias modas, solo se toma la primera\n",
        "  print(\"Cuartil 25%:\", cuartil_25)\n",
        "  print(\"Cuartil 50% (Mediana):\", cuartil_50)\n",
        "  print(\"Cuartil 75%:\", cuartil_75)\n",
        "  print(\"Percentil 60:\", percentil_60)\n",
        "  print(\"Percentil 90:\", percentil_90)\n",
        "  print(\"Percentil 99:\", percentil_99)\n",
        "\n",
        "print()\n",
        "print(\"Columna 1 Ph\")\n",
        "analisis_columna(1,datos)\n",
        "print()\n",
        "print(\"Columna 2 Hardness\")\n",
        "analisis_columna(2,datos)\n",
        "print()\n",
        "print(\"Columna 3 Solids\")\n",
        "analisis_columna(3,datos)\n",
        "print()\n",
        "print(\"Columna 4 Chloramines\")\n",
        "analisis_columna(4,datos)\n",
        "print()\n",
        "print(\"Columna 5 Sulfate\")\n",
        "analisis_columna(5,datos)\n",
        "print()\n",
        "print(\"Columna 6 Conductivity\")\n",
        "analisis_columna(6,datos)\n",
        "print()\n",
        "print(\"Columna 7 Organic Carbon\")\n",
        "analisis_columna(7,datos)\n",
        "print()\n",
        "print(\"Columna 8 Trihalomethanes\")\n",
        "analisis_columna(8,datos)\n",
        "print()\n",
        "print(\"Columna 9 Turbidity\")\n",
        "analisis_columna(9,datos)\n",
        "print()\n",
        "print(\"Columna 10 Potability\")\n",
        "analisis_columna(10,datos)"
      ],
      "metadata": {
        "colab": {
          "base_uri": "https://localhost:8080/"
        },
        "id": "K30BxJ0Hoa79",
        "outputId": "02e74596-08c8-4776-cd63-f0c3b0d79928"
      },
      "execution_count": 13,
      "outputs": [
        {
          "output_type": "stream",
          "name": "stdout",
          "text": [
            "\n",
            "Columna 1 Ph\n",
            "Media: 7.080794504276835\n",
            "Moda: 0.0\n",
            "Cuartil 25%: 6.09309191422186\n",
            "Cuartil 50% (Mediana): 7.036752103833548\n",
            "Cuartil 75%: 8.06206612314847\n",
            "Percentil 60: 7.4366353799272185\n",
            "Percentil 90: 9.078356263157408\n",
            "Percentil 99: 10.895339401159859\n",
            "\n",
            "Columna 2 Hardness\n",
            "Media: 196.36949601730151\n",
            "Moda: 47.432\n",
            "Cuartil 25%: 176.85053787752437\n",
            "Cuartil 50% (Mediana): 196.96762686363076\n",
            "Cuartil 75%: 216.66745621487073\n",
            "Percentil 60: 204.12364839335785\n",
            "Percentil 90: 236.35070740017414\n",
            "Percentil 99: 278.062602333034\n",
            "\n",
            "Columna 3 Solids\n",
            "Media: 22014.092526077104\n",
            "Moda: 320.942611274359\n",
            "Cuartil 25%: 15666.69029696465\n",
            "Cuartil 50% (Mediana): 20927.833606520187\n",
            "Cuartil 75%: 27332.762127438615\n",
            "Percentil 60: 23173.31952968372\n",
            "Percentil 90: 33814.93523020222\n",
            "Percentil 99: 45974.10648980326\n",
            "\n",
            "Columna 4 Chloramines\n",
            "Media: 7.122276793425786\n",
            "Moda: 0.3520000000000003\n",
            "Cuartil 25%: 6.1274207554913\n",
            "Cuartil 50% (Mediana): 7.130298973883081\n",
            "Cuartil 75%: 8.114887032109028\n",
            "Percentil 60: 7.493432998912598\n",
            "Percentil 90: 9.122578323075329\n",
            "Percentil 99: 10.967152881398318\n",
            "\n",
            "Columna 5 Sulfate\n",
            "Media: 333.77577661081347\n",
            "Moda: 129.00000000000003\n",
            "Cuartil 25%: 307.69949783471964\n",
            "Cuartil 50% (Mediana): 333.073545745888\n",
            "Cuartil 75%: 359.9501703847443\n",
            "Percentil 60: 342.0947649035615\n",
            "Percentil 90: 385.96688246092293\n",
            "Percentil 99: 434.02199054504706\n",
            "\n",
            "Columna 6 Conductivity\n",
            "Media: 426.20511068255325\n",
            "Moda: 181.483753985146\n",
            "Cuartil 25%: 365.7344141184627\n",
            "Cuartil 50% (Mediana): 421.8849682800544\n",
            "Cuartil 75%: 481.7923044877282\n",
            "Percentil 60: 443.5703720974922\n",
            "Percentil 90: 533.2972414189196\n",
            "Percentil 99: 617.6265581538769\n",
            "\n",
            "Columna 7 Organic Carbon\n",
            "Media: 14.284970247677318\n",
            "Moda: 2.1999999999999886\n",
            "Cuartil 25%: 12.065801333613067\n",
            "Cuartil 50% (Mediana): 14.218337937208588\n",
            "Cuartil 75%: 16.557651543843434\n",
            "Percentil 60: 15.101532720256046\n",
            "Percentil 90: 18.50456708562831\n",
            "Percentil 99: 22.090048927593102\n",
            "\n",
            "Columna 8 Trihalomethanes\n",
            "Media: 66.39629294676803\n",
            "Moda: 0.7379999999999995\n",
            "Cuartil 25%: 55.844535620979954\n",
            "Cuartil 50% (Mediana): 66.62248509808484\n",
            "Cuartil 75%: 77.33747290873062\n",
            "Percentil 60: 70.44619441732381\n",
            "Percentil 90: 86.49160022487695\n",
            "Percentil 99: 104.7392305112097\n",
            "\n",
            "Columna 9 Turbidity\n",
            "Media: 3.966786169791058\n",
            "Moda: 1.45\n",
            "Cuartil 25%: 3.439710869612912\n",
            "Cuartil 50% (Mediana): 3.955027562993039\n",
            "Cuartil 75%: 4.50031978728511\n",
            "Percentil 60: 4.16824218857341\n",
            "Percentil 90: 4.977140682806077\n",
            "Percentil 99: 5.741639726505603\n",
            "\n",
            "Columna 10 Potability\n",
            "Media: 0.3901098901098901\n",
            "Moda: 0\n",
            "Cuartil 25%: 0.0\n",
            "Cuartil 50% (Mediana): 0.0\n",
            "Cuartil 75%: 1.0\n",
            "Percentil 60: 0.0\n",
            "Percentil 90: 1.0\n",
            "Percentil 99: 1.0\n"
          ]
        }
      ]
    }
  ]
}