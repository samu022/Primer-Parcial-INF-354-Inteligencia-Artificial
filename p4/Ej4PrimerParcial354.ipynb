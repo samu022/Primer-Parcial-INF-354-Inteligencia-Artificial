{
  "nbformat": 4,
  "nbformat_minor": 0,
  "metadata": {
    "colab": {
      "provenance": []
    },
    "kernelspec": {
      "name": "python3",
      "display_name": "Python 3"
    },
    "language_info": {
      "name": "python"
    }
  },
  "cells": [
    {
      "cell_type": "markdown",
      "source": [
        "# **Ejercicio #4 Aplique a su dataset el etiquetado simple y binario.**\n",
        "\n",
        "\n"
      ],
      "metadata": {
        "id": "gwIxA5ppvrjo"
      }
    },
    {
      "cell_type": "markdown",
      "source": [
        "Como mi dataset no tiene columnas con datos cualitativos aplicaremos el etiquetados a nombres de ciudades"
      ],
      "metadata": {
        "id": "9cGrdfRmBToj"
      }
    },
    {
      "cell_type": "markdown",
      "source": [
        "# **Etiquetado simple**"
      ],
      "metadata": {
        "id": "2fzDQg6E5ZbE"
      }
    },
    {
      "cell_type": "code",
      "source": [
        "import pandas as pd\n",
        "from sklearn.preprocessing import LabelEncoder, OneHotEncoder\n",
        "\n",
        "\n",
        "datos=['Paris', 'Londres', 'Nueva York', 'Roma', 'Tokio', 'Madrid', 'Berlín', 'Sídney', 'Pekín', 'Toronto','Roma']\n",
        "metodo=LabelEncoder()\n",
        "datos2=metodo.fit_transform(datos)\n",
        "#mostramos las clases unicas encontradas\n",
        "print(\"Clases unicas encontradas: \",metodo.classes_)\n",
        "print(\"Datos con etiquetado simple: \",datos2)\n",
        "datos1=metodo.inverse_transform(datos2)\n",
        "print(\"Datos iniciales trqansformación inversa: \",datos1)"
      ],
      "metadata": {
        "colab": {
          "base_uri": "https://localhost:8080/"
        },
        "id": "yrPupdwZ5YIn",
        "outputId": "de060818-35eb-4840-e8aa-378dc0360a47"
      },
      "execution_count": 5,
      "outputs": [
        {
          "output_type": "stream",
          "name": "stdout",
          "text": [
            "Clases unicas encontradas:  ['Berlín' 'Londres' 'Madrid' 'Nueva York' 'Paris' 'Pekín' 'Roma' 'Sídney'\n",
            " 'Tokio' 'Toronto']\n",
            "Datos con etiquetado simple:  [4 1 3 6 8 2 0 7 5 9 6]\n",
            "Datos iniciales trqansformación inversa:  ['Paris' 'Londres' 'Nueva York' 'Roma' 'Tokio' 'Madrid' 'Berlín' 'Sídney'\n",
            " 'Pekín' 'Toronto' 'Roma']\n"
          ]
        }
      ]
    },
    {
      "cell_type": "markdown",
      "source": [
        "# **Etiquetado binario**"
      ],
      "metadata": {
        "id": "ytmaLLAI6041"
      }
    },
    {
      "cell_type": "code",
      "execution_count": 7,
      "metadata": {
        "colab": {
          "base_uri": "https://localhost:8080/"
        },
        "id": "-s1NBZo-vmvF",
        "outputId": "2687fc51-4464-4bd4-af24-f42e7a3c8d16"
      },
      "outputs": [
        {
          "output_type": "stream",
          "name": "stdout",
          "text": [
            "Clases unicas encontradas:  [array(['Berlín', 'Londres', 'Madrid', 'Nueva York', 'Paris', 'Pekín',\n",
            "       'Roma', 'Sídney', 'Tokio', 'Toronto'], dtype='<U10')]\n",
            "Datos codificados:  [[0. 0. 0. 0. 1. 0. 0. 0. 0. 0.]\n",
            " [0. 1. 0. 0. 0. 0. 0. 0. 0. 0.]\n",
            " [0. 0. 0. 1. 0. 0. 0. 0. 0. 0.]\n",
            " [0. 0. 0. 0. 0. 0. 1. 0. 0. 0.]\n",
            " [0. 0. 0. 0. 0. 0. 0. 0. 1. 0.]\n",
            " [0. 0. 1. 0. 0. 0. 0. 0. 0. 0.]\n",
            " [1. 0. 0. 0. 0. 0. 0. 0. 0. 0.]\n",
            " [0. 0. 0. 0. 0. 0. 0. 1. 0. 0.]\n",
            " [0. 0. 0. 0. 0. 1. 0. 0. 0. 0.]\n",
            " [0. 0. 0. 0. 0. 0. 0. 0. 0. 1.]\n",
            " [0. 0. 0. 0. 0. 0. 1. 0. 0. 0.]]\n",
            "Datos decodificados:  [['Paris']\n",
            " ['Londres']\n",
            " ['Nueva York']\n",
            " ['Roma']\n",
            " ['Tokio']\n",
            " ['Madrid']\n",
            " ['Berlín']\n",
            " ['Sídney']\n",
            " ['Pekín']\n",
            " ['Toronto']\n",
            " ['Roma']]\n"
          ]
        }
      ],
      "source": [
        "import numpy as np\n",
        "#datos en 2d\n",
        "datos2 = np.array(datos).reshape(-1, 1)\n",
        "metodo=OneHotEncoder()\n",
        "metodo.fit(datos2)\n",
        "\n",
        "datos3=metodo.transform(datos2)\n",
        "print(\"Clases unicas encontradas: \",metodo.categories_)\n",
        "print(\"Datos codificados: \",datos3.toarray())\n",
        "datos_decodificados = metodo.inverse_transform(datos3)\n",
        "print(\"Datos decodificados: \",datos_decodificados)\n"
      ]
    }
  ]
}